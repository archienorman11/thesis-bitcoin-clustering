{
 "cells": [
  {
   "cell_type": "code",
   "execution_count": 4,
   "metadata": {
    "collapsed": false,
    "jupyter": {
     "outputs_hidden": false
    }
   },
   "outputs": [
    {
     "ename": "ModuleNotFoundError",
     "evalue": "No module named 'PyYAML'",
     "output_type": "error",
     "traceback": [
      "\u001b[0;31m---------------------------------------------------------------------------\u001b[0m",
      "\u001b[0;31mModuleNotFoundError\u001b[0m                       Traceback (most recent call last)",
      "\u001b[0;32m/var/folders/nj/93crzg5x1q3d14pp_8np7v800000gn/T/ipykernel_667/2230829326.py\u001b[0m in \u001b[0;36m<module>\u001b[0;34m\u001b[0m\n\u001b[0;32m----> 1\u001b[0;31m \u001b[0;32mimport\u001b[0m \u001b[0mPyYAML\u001b[0m \u001b[0;32mas\u001b[0m \u001b[0myaml\u001b[0m\u001b[0;34m\u001b[0m\u001b[0;34m\u001b[0m\u001b[0m\n\u001b[0m\u001b[1;32m      2\u001b[0m \u001b[0;34m\u001b[0m\u001b[0m\n\u001b[1;32m      3\u001b[0m \u001b[0;32mwith\u001b[0m \u001b[0mopen\u001b[0m\u001b[0;34m(\u001b[0m\u001b[0;34m'consts.yaml'\u001b[0m\u001b[0;34m)\u001b[0m \u001b[0;32mas\u001b[0m \u001b[0mf\u001b[0m\u001b[0;34m:\u001b[0m\u001b[0;34m\u001b[0m\u001b[0;34m\u001b[0m\u001b[0m\n\u001b[1;32m      4\u001b[0m     \u001b[0mconsts\u001b[0m \u001b[0;34m=\u001b[0m \u001b[0myaml\u001b[0m\u001b[0;34m.\u001b[0m\u001b[0msafe_load\u001b[0m\u001b[0;34m(\u001b[0m\u001b[0mf\u001b[0m\u001b[0;34m)\u001b[0m\u001b[0;34m\u001b[0m\u001b[0;34m\u001b[0m\u001b[0m\n\u001b[1;32m      5\u001b[0m \u001b[0;34m\u001b[0m\u001b[0m\n",
      "\u001b[0;31mModuleNotFoundError\u001b[0m: No module named 'PyYAML'"
     ]
    }
   ],
   "source": [
    "import PyYAML as yaml \n",
    "\n",
    "with open('consts.yaml') as f:\n",
    "    consts = yaml.safe_load(f)\n",
    "\n",
    "flag = 1\n",
    "\n",
    "#IMPORT\n",
    "try:\n",
    "    import graphlab as gl\n",
    "    import numpy as np\n",
    "    import graphlab.aggregate as agg\n",
    "    import matplotlib.pyplot as plt\n",
    "    from matplotlib import rcParams\n",
    "    import datetime as dt   \n",
    "    from graphlab import degree_counting\n",
    "    from graphlab import connected_components\n",
    "    from graphlab import pagerank\n",
    "    from graphlab import shortest_path\n",
    "    from graphlab import triangle_counting\n",
    "    from graphlab import label_propagation\n",
    "    from graphlab import kcore\n",
    "    from graphlab import graph_coloring\n",
    "    import os\n",
    "    from bs4 import BeautifulSoup\n",
    "    import csv\n",
    "    import requests\n",
    "    import urllib\n",
    "    import json\n",
    "    import pandas as pd\n",
    "    print(consts['success'])\n",
    "except:\n",
    "    raise ImportError(\"Key libraries cannot be loaded.\")"
   ]
  },
  {
   "cell_type": "code",
   "execution_count": 3,
   "metadata": {},
   "outputs": [
    {
     "name": "stdout",
     "output_type": "stream",
     "text": [
      "\u001b[33mDEPRECATION: Configuring installation scheme with distutils config files is deprecated and will no longer work in the near future. If you are using a Homebrew or Linuxbrew Python, please see discussion at https://github.com/Homebrew/homebrew-core/issues/76621\u001b[0m\n",
      "Requirement already satisfied: PyYAML in /opt/homebrew/lib/python3.9/site-packages (6.0)\n"
     ]
    }
   ],
   "source": [
    "!pip3 install PyYAML"
   ]
  },
  {
   "cell_type": "code",
   "execution_count": null,
   "metadata": {},
   "outputs": [],
   "source": []
  },
  {
   "cell_type": "code",
   "execution_count": 2,
   "metadata": {
    "collapsed": false,
    "jupyter": {
     "outputs_hidden": false
    }
   },
   "outputs": [
    {
     "name": "stdout",
     "output_type": "stream",
     "text": [
      "error\n"
     ]
    }
   ],
   "source": [
    "try:\n",
    "    transaction_data = consts['path_to_transactional_data']\n",
    "    data = gl.SFrame(transaction_data)\n",
    "    print(len(data))\n",
    "except:\n",
    "    print(consts['error'])\n",
    "    "
   ]
  },
  {
   "cell_type": "code",
   "execution_count": null,
   "metadata": {},
   "outputs": [
    {
     "name": "stdout",
     "output_type": "stream",
     "text": [
      "\u001b[31mERROR: Could not find a version that satisfies the requirement yaml (from versions: none)\u001b[0m\n",
      "\u001b[31mERROR: No matching distribution found for yaml\u001b[0m\n"
     ]
    }
   ],
   "source": []
  },
  {
   "cell_type": "code",
   "execution_count": 189,
   "metadata": {
    "collapsed": false,
    "jupyter": {
     "outputs_hidden": false
    }
   },
   "outputs": [
    {
     "name": "stdout",
     "output_type": "stream",
     "text": [
      "['address', 'received_charity', 'received_finance', 'received_gambling', 'received_junk', 'received_pools', 'received_services', 'sent_charity', 'sent_finance', 'sent_gambling', 'sent_junk', 'sent_pools', 'sent_services', 'transaction_count', 'value', 'category', 'is_gambler', 'is_charity', 'is_finance', 'is_junk', 'is_pools', 'is_services', 'pagerank', 'delta', 'in_degree', 'out_degree', 'component_id', 'core_id', 'avg_value']\n",
      "451241\n",
      "150259\n"
     ]
    }
   ],
   "source": [
    "pd.set_option('expand_frame_repr', False)\n",
    "print(data.column_names())\n",
    "\n",
    "print(len(data))\n",
    "\n",
    "finance = data[data['is_finance'] == True]\n",
    "services = data[data['is_services'] == True]\n",
    "gambling = data[data['is_gambler'] == True]\n",
    "pools = data[data['is_pools'] == True]\n",
    "\n",
    "finance = finance.to_dataframe()\n",
    "services = services.to_dataframe()\n",
    "gambling = gambling.to_dataframe()\n",
    "pools = pools.to_dataframe()\n",
    "\n",
    "finance['in_degree_std'] = finance['in_degree'].std()\n",
    "services['in_degree_std'] = services['in_degree'].std()\n",
    "gambling['in_degree_std'] = gambling['in_degree'].std()\n",
    "pools['in_degree_std'] = pools['in_degree'].std()\n",
    "\n",
    "finance['out_degree_std'] = finance['out_degree'].std()\n",
    "services['out_degree_std'] = services['out_degree'].std()\n",
    "gambling['out_degree_std'] = gambling['out_degree'].std()\n",
    "pools['out_degree_std'] = pools['out_degree'].std()\n",
    "\n",
    "frames = [finance, services, gambling, pools]\n",
    "\n",
    "data = pd.concat(frames)\n",
    "\n",
    "print(len(data))\n"
   ]
  },
  {
   "cell_type": "code",
   "execution_count": 190,
   "metadata": {
    "collapsed": false,
    "jupyter": {
     "outputs_hidden": false
    }
   },
   "outputs": [
    {
     "name": "stdout",
     "output_type": "stream",
     "text": [
      "15623\n",
      "2590\n",
      "2895\n",
      "3527\n",
      "4327\n",
      "5541\n",
      "7683\n",
      "11353\n",
      "15923\n",
      "3261\n",
      "0\n"
     ]
    }
   ],
   "source": [
    "category = 'is_services'\n",
    "\n",
    "id_10 = data[data['core_id'] == 10]\n",
    "id_9 = data[data['core_id'] == 9]\n",
    "id_8 = data[data['core_id'] == 8]\n",
    "id_7 = data[data['core_id'] == 7]\n",
    "id_6 = data[data['core_id'] == 6]\n",
    "id_5 = data[data['core_id'] == 5]\n",
    "id_4 = data[data['core_id'] == 4]\n",
    "id_3 = data[data['core_id'] == 3]\n",
    "id_2 = data[data['core_id'] == 2]\n",
    "id_1 = data[data['core_id'] == 1]\n",
    "id_0 = data[data['core_id'] == 0]\n",
    "# print(len(id_10[id_10['is_gambler']]))\n",
    "# print(len(id_10[id_10['is_charity']]))\n",
    "# print(len(id_10[id_10['is_finance']]))\n",
    "# print(len(id_10[id_10['is_junk']]))\n",
    "# print(len(id_10[id_10['is_pools']]))\n",
    "print(len(id_10[id_10[category] == True]))\n",
    "print(len(id_9[id_9[category] == True]))\n",
    "print(len(id_8[id_8[category] == True]))\n",
    "print(len(id_7[id_7[category] == True]))\n",
    "print(len(id_6[id_6[category] == True]))\n",
    "print(len(id_5[id_5[category] == True]))\n",
    "print(len(id_4[id_4[category] == True]))\n",
    "print(len(id_3[id_3[category] == True]))\n",
    "print(len(id_2[id_2[category] == True]))\n",
    "print(len(id_1[id_1[category] == True]))\n",
    "print(len(id_0[id_0[category] == True]))"
   ]
  },
  {
   "cell_type": "code",
   "execution_count": null,
   "metadata": {
    "collapsed": true,
    "jupyter": {
     "outputs_hidden": true
    }
   },
   "outputs": [],
   "source": []
  },
  {
   "cell_type": "markdown",
   "metadata": {},
   "source": []
  },
  {
   "cell_type": "code",
   "execution_count": 191,
   "metadata": {
    "collapsed": false,
    "jupyter": {
     "outputs_hidden": false
    }
   },
   "outputs": [
    {
     "name": "stdout",
     "output_type": "stream",
     "text": [
      "Canvas is accessible via web browser at the URL: http://localhost:61344/index.html\n",
      "Opening Canvas in default web browser.\n"
     ]
    }
   ],
   "source": [
    "sf_data = gl.SFrame(data)\n",
    "\n",
    "sf_data.show()"
   ]
  },
  {
   "cell_type": "code",
   "execution_count": 192,
   "metadata": {
    "collapsed": false,
    "jupyter": {
     "outputs_hidden": false
    }
   },
   "outputs": [
    {
     "name": "stdout",
     "output_type": "stream",
     "text": [
      "150259\n",
      "+------------------------------------+------------------+------------------+-------------------+---------------+\n",
      "|              address               | received_charity | received_finance | received_gambling | received_junk |\n",
      "+------------------------------------+------------------+------------------+-------------------+---------------+\n",
      "| 111ZVmQMacfXiEpm9hrgWTjzbvHFRmiC1  |       0.0        |       0.0        |        0.0        |      0.0      |\n",
      "| 111rk7dfDvQLx5FtywePeNzvDVGTJhKrz  |       0.0        |       1.0        |        0.0        |      0.0      |\n",
      "| 1123JJPvduSJe6JSiab2zqcRU7Rkdjf3ZK |       0.0        |       1.0        |        0.0        |      0.0      |\n",
      "| 1123xwCN4XaF3yLztPYwWMVXaCQcYR1aTF |       0.0        |       0.0        |        0.0        |      0.0      |\n",
      "| 1124K1jJmvbazM9RS1FRVRGPTe86b11Yok |       0.0        |       1.0        |        0.0        |      0.0      |\n",
      "+------------------------------------+------------------+------------------+-------------------+---------------+\n",
      "+----------------+-------------------+--------------+--------------+---------------+-----------+------------+\n",
      "| received_pools | received_services | sent_charity | sent_finance | sent_gambling | sent_junk | sent_pools |\n",
      "+----------------+-------------------+--------------+--------------+---------------+-----------+------------+\n",
      "|      0.0       |        0.0        |     0.0      |     2.0      |      0.0      |    0.0    |    0.0     |\n",
      "|      0.0       |        0.0        |     0.0      |     2.0      |      0.0      |    0.0    |    0.0     |\n",
      "|      0.0       |        0.0        |     0.0      |     17.0     |      0.0      |    0.0    |    0.0     |\n",
      "|      0.0       |        0.0        |     0.0      |     2.0      |      0.0      |    0.0    |    0.0     |\n",
      "|      0.0       |        0.0        |     0.0      |     6.0      |      0.0      |    0.0    |    0.0     |\n",
      "+----------------+-------------------+--------------+--------------+---------------+-----------+------------+\n",
      "+---------------+-------------------+-------------+----------+------------+------------+------------+\n",
      "| sent_services | transaction_count |    value    | category | is_gambler | is_charity | is_finance |\n",
      "+---------------+-------------------+-------------+----------+------------+------------+------------+\n",
      "|      0.0      |         2         |  0.02000108 |    6     |     0      |     0      |     1      |\n",
      "|      0.0      |         3         | 39.86275797 |    9     |     0      |     0      |     1      |\n",
      "|      0.0      |         18        |  0.6258072  |    54    |     0      |     0      |     1      |\n",
      "|      0.0      |         2         |     0.12    |    6     |     0      |     0      |     1      |\n",
      "|      0.0      |         7         | 23.24186682 |    21    |     0      |     0      |     1      |\n",
      "+---------------+-------------------+-------------+----------+------------+------------+------------+\n",
      "+---------+----------+-------------+----------------+-------------------+-----------+------------+\n",
      "| is_junk | is_pools | is_services |    pagerank    |       delta       | in_degree | out_degree |\n",
      "+---------+----------+-------------+----------------+-------------------+-----------+------------+\n",
      "|    0    |    0     |      0      | 0.840191457494 | 9.39655294463e-07 |     2     |     0      |\n",
      "|    0    |    0     |      0      | 0.38587581045  |        0.0        |     2     |     1      |\n",
      "|    0    |    0     |      0      | 0.682623028125 | 2.24053090103e-06 |     17    |     1      |\n",
      "|    0    |    0     |      0      |  0.3451546875  |        0.0        |     2     |     0      |\n",
      "|    0    |    0     |      0      | 1.80495252786  | 0.000189828318804 |     6     |     1      |\n",
      "+---------+----------+-------------+----------------+-------------------+-----------+------------+\n",
      "+--------------+---------+-----------------+---------------+----------------+\n",
      "| component_id | core_id |    avg_value    | in_degree_std | out_degree_std |\n",
      "+--------------+---------+-----------------+---------------+----------------+\n",
      "|    129772    |    1    |    0.01000054   | 114.616794414 | 118.843224425  |\n",
      "|    129772    |    2    |   13.28758599   | 114.616794414 | 118.843224425  |\n",
      "|    129772    |    10   | 0.0347670666667 | 114.616794414 | 118.843224425  |\n",
      "|    129772    |    2    |       0.06      | 114.616794414 | 118.843224425  |\n",
      "|    129772    |    2    |  3.32026668857  | 114.616794414 | 118.843224425  |\n",
      "+--------------+---------+-----------------+---------------+----------------+\n",
      "[150259 rows x 31 columns]\n",
      "\n"
     ]
    }
   ],
   "source": [
    "data = gl.SFrame(data)\n",
    "print(len(data))\n",
    "\n",
    "# data['pagerank'] = data['pagerank'] / data['transaction_count']\n",
    "# data['in_degree'] = data['in_degree'] / data['transaction_count']\n",
    "# data['out_degree'] = data['out_degree'] / data['transaction_count']\n",
    "\n",
    "data.print_rows(num_rows=5, num_columns=40, max_column_width=100)"
   ]
  },
  {
   "cell_type": "code",
   "execution_count": 193,
   "metadata": {
    "collapsed": false,
    "jupyter": {
     "outputs_hidden": false
    }
   },
   "outputs": [],
   "source": [
    "train_data, test_data = data.random_split(0.8)"
   ]
  },
  {
   "cell_type": "code",
   "execution_count": 200,
   "metadata": {
    "collapsed": false,
    "jupyter": {
     "outputs_hidden": false
    },
    "scrolled": true
   },
   "outputs": [
    {
     "name": "stdout",
     "output_type": "stream",
     "text": [
      "PROGRESS: Creating a validation set from 5 percent of training data. This may take a while.\n",
      "          You can set ``validation_set=None`` to disable validation tracking.\n",
      "\n"
     ]
    },
    {
     "data": {
      "text/html": [
       "<pre>SVM:</pre>"
      ],
      "text/plain": [
       "SVM:"
      ]
     },
     "metadata": {},
     "output_type": "display_data"
    },
    {
     "data": {
      "text/html": [
       "<pre>--------------------------------------------------------</pre>"
      ],
      "text/plain": [
       "--------------------------------------------------------"
      ]
     },
     "metadata": {},
     "output_type": "display_data"
    },
    {
     "data": {
      "text/html": [
       "<pre>Number of examples          : 114083</pre>"
      ],
      "text/plain": [
       "Number of examples          : 114083"
      ]
     },
     "metadata": {},
     "output_type": "display_data"
    },
    {
     "data": {
      "text/html": [
       "<pre>Number of classes           : 2</pre>"
      ],
      "text/plain": [
       "Number of classes           : 2"
      ]
     },
     "metadata": {},
     "output_type": "display_data"
    },
    {
     "data": {
      "text/html": [
       "<pre>Number of feature columns   : 5</pre>"
      ],
      "text/plain": [
       "Number of feature columns   : 5"
      ]
     },
     "metadata": {},
     "output_type": "display_data"
    },
    {
     "data": {
      "text/html": [
       "<pre>Number of unpacked features : 5</pre>"
      ],
      "text/plain": [
       "Number of unpacked features : 5"
      ]
     },
     "metadata": {},
     "output_type": "display_data"
    },
    {
     "data": {
      "text/html": [
       "<pre>Number of coefficients    : 6</pre>"
      ],
      "text/plain": [
       "Number of coefficients    : 6"
      ]
     },
     "metadata": {},
     "output_type": "display_data"
    },
    {
     "data": {
      "text/html": [
       "<pre>Starting L-BFGS</pre>"
      ],
      "text/plain": [
       "Starting L-BFGS"
      ]
     },
     "metadata": {},
     "output_type": "display_data"
    },
    {
     "data": {
      "text/html": [
       "<pre>--------------------------------------------------------</pre>"
      ],
      "text/plain": [
       "--------------------------------------------------------"
      ]
     },
     "metadata": {},
     "output_type": "display_data"
    },
    {
     "data": {
      "text/html": [
       "<pre>+-----------+----------+-----------+--------------+-------------------+---------------------+</pre>"
      ],
      "text/plain": [
       "+-----------+----------+-----------+--------------+-------------------+---------------------+"
      ]
     },
     "metadata": {},
     "output_type": "display_data"
    },
    {
     "data": {
      "text/html": [
       "<pre>| Iteration | Passes   | Step size | Elapsed Time | Training-accuracy | Validation-accuracy |</pre>"
      ],
      "text/plain": [
       "| Iteration | Passes   | Step size | Elapsed Time | Training-accuracy | Validation-accuracy |"
      ]
     },
     "metadata": {},
     "output_type": "display_data"
    },
    {
     "data": {
      "text/html": [
       "<pre>+-----------+----------+-----------+--------------+-------------------+---------------------+</pre>"
      ],
      "text/plain": [
       "+-----------+----------+-----------+--------------+-------------------+---------------------+"
      ]
     },
     "metadata": {},
     "output_type": "display_data"
    },
    {
     "data": {
      "text/html": [
       "<pre>| 1         | 4        | 0.000044  | 0.114724     | 0.518088          | 0.507708            |</pre>"
      ],
      "text/plain": [
       "| 1         | 4        | 0.000044  | 0.114724     | 0.518088          | 0.507708            |"
      ]
     },
     "metadata": {},
     "output_type": "display_data"
    },
    {
     "data": {
      "text/html": [
       "<pre>| 2         | 6        | 1.000000  | 0.170258     | 0.519061          | 0.508713            |</pre>"
      ],
      "text/plain": [
       "| 2         | 6        | 1.000000  | 0.170258     | 0.519061          | 0.508713            |"
      ]
     },
     "metadata": {},
     "output_type": "display_data"
    },
    {
     "data": {
      "text/html": [
       "<pre>| 3         | 7        | 1.000000  | 0.206484     | 0.619233          | 0.630027            |</pre>"
      ],
      "text/plain": [
       "| 3         | 7        | 1.000000  | 0.206484     | 0.619233          | 0.630027            |"
      ]
     },
     "metadata": {},
     "output_type": "display_data"
    },
    {
     "data": {
      "text/html": [
       "<pre>| 4         | 8        | 1.000000  | 0.243091     | 0.544980          | 0.557138            |</pre>"
      ],
      "text/plain": [
       "| 4         | 8        | 1.000000  | 0.243091     | 0.544980          | 0.557138            |"
      ]
     },
     "metadata": {},
     "output_type": "display_data"
    },
    {
     "data": {
      "text/html": [
       "<pre>| 5         | 14       | 1.194008  | 0.357862     | 0.666015          | 0.677279            |</pre>"
      ],
      "text/plain": [
       "| 5         | 14       | 1.194008  | 0.357862     | 0.666015          | 0.677279            |"
      ]
     },
     "metadata": {},
     "output_type": "display_data"
    },
    {
     "data": {
      "text/html": [
       "<pre>| 6         | 15       | 1.194008  | 0.405828     | 0.575888          | 0.588304            |</pre>"
      ],
      "text/plain": [
       "| 6         | 15       | 1.194008  | 0.405828     | 0.575888          | 0.588304            |"
      ]
     },
     "metadata": {},
     "output_type": "display_data"
    },
    {
     "data": {
      "text/html": [
       "<pre>| 11        | 30       | 0.023668  | 0.884680     | 0.659862          | 0.670074            |</pre>"
      ],
      "text/plain": [
       "| 11        | 30       | 0.023668  | 0.884680     | 0.659862          | 0.670074            |"
      ]
     },
     "metadata": {},
     "output_type": "display_data"
    },
    {
     "data": {
      "text/html": [
       "<pre>| 25        | 60       | 0.500000  | 1.774573     | 0.666155          | 0.677782            |</pre>"
      ],
      "text/plain": [
       "| 25        | 60       | 0.500000  | 1.774573     | 0.666155          | 0.677782            |"
      ]
     },
     "metadata": {},
     "output_type": "display_data"
    },
    {
     "data": {
      "text/html": [
       "<pre>| 50        | 95       | 1.000000  | 3.186323     | 0.665866          | 0.676776            |</pre>"
      ],
      "text/plain": [
       "| 50        | 95       | 1.000000  | 3.186323     | 0.665866          | 0.676776            |"
      ]
     },
     "metadata": {},
     "output_type": "display_data"
    },
    {
     "data": {
      "text/html": [
       "<pre>| 51        | 96       | 1.000000  | 3.240113     | 0.665971          | 0.677111            |</pre>"
      ],
      "text/plain": [
       "| 51        | 96       | 1.000000  | 3.240113     | 0.665971          | 0.677111            |"
      ]
     },
     "metadata": {},
     "output_type": "display_data"
    },
    {
     "data": {
      "text/html": [
       "<pre>| 75        | 134      | 1.000000  | 5.274580     | 0.660808          | 0.672755            |</pre>"
      ],
      "text/plain": [
       "| 75        | 134      | 1.000000  | 5.274580     | 0.660808          | 0.672755            |"
      ]
     },
     "metadata": {},
     "output_type": "display_data"
    },
    {
     "data": {
      "text/html": [
       "<pre>| 100       | 172      | 0.500000  | 6.437522     | 0.666401          | 0.677111            |</pre>"
      ],
      "text/plain": [
       "| 100       | 172      | 0.500000  | 6.437522     | 0.666401          | 0.677111            |"
      ]
     },
     "metadata": {},
     "output_type": "display_data"
    },
    {
     "data": {
      "text/html": [
       "<pre>+-----------+----------+-----------+--------------+-------------------+---------------------+</pre>"
      ],
      "text/plain": [
       "+-----------+----------+-----------+--------------+-------------------+---------------------+"
      ]
     },
     "metadata": {},
     "output_type": "display_data"
    },
    {
     "data": {
      "text/html": [
       "<pre>TERMINATED: Iteration limit reached.</pre>"
      ],
      "text/plain": [
       "TERMINATED: Iteration limit reached."
      ]
     },
     "metadata": {},
     "output_type": "display_data"
    },
    {
     "data": {
      "text/html": [
       "<pre>This model may not be optimal. To improve it, consider increasing `max_iterations`.</pre>"
      ],
      "text/plain": [
       "This model may not be optimal. To improve it, consider increasing `max_iterations`."
      ]
     },
     "metadata": {},
     "output_type": "display_data"
    },
    {
     "name": "stdout",
     "output_type": "stream",
     "text": [
      "{'f1_score': 0.7277665002468864, 'recall': 0.9054607508532423, 'confusion_matrix': Columns:\n",
      "\ttarget_label\tint\n",
      "\tpredicted_label\tint\n",
      "\tcount\tint\n",
      "\n",
      "Rows: 4\n",
      "\n",
      "Data:\n",
      "+--------------+-----------------+-------+\n",
      "| target_label | predicted_label | count |\n",
      "+--------------+-----------------+-------+\n",
      "|      0       |        0        |  7019 |\n",
      "|      0       |        1        |  8539 |\n",
      "|      1       |        0        |  1385 |\n",
      "|      1       |        1        | 13265 |\n",
      "+--------------+-----------------+-------+\n",
      "[4 rows x 3 columns]\n",
      ", 'precision': 0.6083746101632728, 'accuracy': 0.6714777542372882}\n",
      "+-------------------+-------+-------+--------------------+\n",
      "|        name       | index | class |       value        |\n",
      "+-------------------+-------+-------+--------------------+\n",
      "|    (intercept)    |  None |   1   |   1.21011721815    |\n",
      "| transaction_count |  None |   1   |  0.00112523145786  |\n",
      "|      pagerank     |  None |   1   |   -1.69371429324   |\n",
      "|     in_degree     |  None |   1   |  0.00559682820822  |\n",
      "|     out_degree    |  None |   1   | -0.000372255631437 |\n",
      "|     avg_value     |  None |   1   |   -0.19644473326   |\n",
      "+-------------------+-------+-------+--------------------+\n",
      "[6 rows x 4 columns]\n",
      "\n"
     ]
    }
   ],
   "source": [
    "model_services_svm = gl.svm_classifier.create(train_data, target='is_services',\n",
    "                                    features = [\n",
    "                                                'transaction_count',\n",
    "                                                'pagerank',\n",
    "                                                'in_degree',\n",
    "                                                'out_degree',\n",
    "                                                'avg_value',\n",
    "#                                                 'delta'\n",
    "                                               ], max_iterations=100)\n",
    "\n",
    "# Save predictions (class only) to an SFrame\n",
    "margin_predictions_services_svm = model_services_svm.predict(test_data)\n",
    "# Evaluate the model and save the results into a dictionary\n",
    "results_services_svm = model_services_svm.evaluate(test_data)\n",
    "print(results_services_svm)\n",
    "\n",
    "# class_predictions_services = model_services.predict(test_data, output_type='margin')\n",
    "# print(class_predictions_services)\n",
    "\n",
    "# auc = gl.evaluation.auc(model_services['target'], class_predictions_services)\n",
    "# print auc\n",
    "\n",
    "coefs_services_svm = model_services_svm['coefficients']\n",
    "print coefs_services_svm\n",
    "\n",
    "# model_services_svm.show()\n"
   ]
  },
  {
   "cell_type": "code",
   "execution_count": 195,
   "metadata": {
    "collapsed": false,
    "jupyter": {
     "outputs_hidden": false
    },
    "scrolled": true
   },
   "outputs": [
    {
     "name": "stdout",
     "output_type": "stream",
     "text": [
      "PROGRESS: Creating a validation set from 5 percent of training data. This may take a while.\n",
      "          You can set ``validation_set=None`` to disable validation tracking.\n",
      "\n"
     ]
    },
    {
     "data": {
      "text/html": [
       "<pre>Logistic regression:</pre>"
      ],
      "text/plain": [
       "Logistic regression:"
      ]
     },
     "metadata": {},
     "output_type": "display_data"
    },
    {
     "data": {
      "text/html": [
       "<pre>--------------------------------------------------------</pre>"
      ],
      "text/plain": [
       "--------------------------------------------------------"
      ]
     },
     "metadata": {},
     "output_type": "display_data"
    },
    {
     "data": {
      "text/html": [
       "<pre>Number of examples          : 114129</pre>"
      ],
      "text/plain": [
       "Number of examples          : 114129"
      ]
     },
     "metadata": {},
     "output_type": "display_data"
    },
    {
     "data": {
      "text/html": [
       "<pre>Number of classes           : 2</pre>"
      ],
      "text/plain": [
       "Number of classes           : 2"
      ]
     },
     "metadata": {},
     "output_type": "display_data"
    },
    {
     "data": {
      "text/html": [
       "<pre>Number of feature columns   : 4</pre>"
      ],
      "text/plain": [
       "Number of feature columns   : 4"
      ]
     },
     "metadata": {},
     "output_type": "display_data"
    },
    {
     "data": {
      "text/html": [
       "<pre>Number of unpacked features : 4</pre>"
      ],
      "text/plain": [
       "Number of unpacked features : 4"
      ]
     },
     "metadata": {},
     "output_type": "display_data"
    },
    {
     "data": {
      "text/html": [
       "<pre>Number of coefficients    : 5</pre>"
      ],
      "text/plain": [
       "Number of coefficients    : 5"
      ]
     },
     "metadata": {},
     "output_type": "display_data"
    },
    {
     "data": {
      "text/html": [
       "<pre>Starting Accelerated Gradient (FISTA)</pre>"
      ],
      "text/plain": [
       "Starting Accelerated Gradient (FISTA)"
      ]
     },
     "metadata": {},
     "output_type": "display_data"
    },
    {
     "data": {
      "text/html": [
       "<pre>--------------------------------------------------------</pre>"
      ],
      "text/plain": [
       "--------------------------------------------------------"
      ]
     },
     "metadata": {},
     "output_type": "display_data"
    },
    {
     "data": {
      "text/html": [
       "<pre>+-----------+----------+-----------+--------------+-------------------+---------------------+</pre>"
      ],
      "text/plain": [
       "+-----------+----------+-----------+--------------+-------------------+---------------------+"
      ]
     },
     "metadata": {},
     "output_type": "display_data"
    },
    {
     "data": {
      "text/html": [
       "<pre>| Iteration | Passes   | Step size | Elapsed Time | Training-accuracy | Validation-accuracy |</pre>"
      ],
      "text/plain": [
       "| Iteration | Passes   | Step size | Elapsed Time | Training-accuracy | Validation-accuracy |"
      ]
     },
     "metadata": {},
     "output_type": "display_data"
    },
    {
     "data": {
      "text/html": [
       "<pre>+-----------+----------+-----------+--------------+-------------------+---------------------+</pre>"
      ],
      "text/plain": [
       "+-----------+----------+-----------+--------------+-------------------+---------------------+"
      ]
     },
     "metadata": {},
     "output_type": "display_data"
    },
    {
     "data": {
      "text/html": [
       "<pre>Tuning step size. First iteration could take longer than subsequent iterations.</pre>"
      ],
      "text/plain": [
       "Tuning step size. First iteration could take longer than subsequent iterations."
      ]
     },
     "metadata": {},
     "output_type": "display_data"
    },
    {
     "data": {
      "text/html": [
       "<pre>| 1         | 2        | 0.000059  | 0.910985     | 0.517581          | 0.517730            |</pre>"
      ],
      "text/plain": [
       "| 1         | 2        | 0.000059  | 0.910985     | 0.517581          | 0.517730            |"
      ]
     },
     "metadata": {},
     "output_type": "display_data"
    },
    {
     "data": {
      "text/html": [
       "<pre>| 2         | 3        | 0.000059  | 0.979598     | 0.633082          | 0.634076            |</pre>"
      ],
      "text/plain": [
       "| 2         | 3        | 0.000059  | 0.979598     | 0.633082          | 0.634076            |"
      ]
     },
     "metadata": {},
     "output_type": "display_data"
    },
    {
     "data": {
      "text/html": [
       "<pre>| 3         | 4        | 0.000040  | 1.071106     | 0.742441          | 0.748227            |</pre>"
      ],
      "text/plain": [
       "| 3         | 4        | 0.000040  | 1.071106     | 0.742441          | 0.748227            |"
      ]
     },
     "metadata": {},
     "output_type": "display_data"
    },
    {
     "data": {
      "text/html": [
       "<pre>| 4         | 5        | 0.000040  | 1.150540     | 0.686364          | 0.686424            |</pre>"
      ],
      "text/plain": [
       "| 4         | 5        | 0.000040  | 1.150540     | 0.686364          | 0.686424            |"
      ]
     },
     "metadata": {},
     "output_type": "display_data"
    },
    {
     "data": {
      "text/html": [
       "<pre>| 5         | 6        | 0.000040  | 1.222950     | 0.688519          | 0.688956            |</pre>"
      ],
      "text/plain": [
       "| 5         | 6        | 0.000040  | 1.222950     | 0.688519          | 0.688956            |"
      ]
     },
     "metadata": {},
     "output_type": "display_data"
    },
    {
     "data": {
      "text/html": [
       "<pre>| 6         | 7        | 0.000040  | 1.297510     | 0.681054          | 0.681695            |</pre>"
      ],
      "text/plain": [
       "| 6         | 7        | 0.000040  | 1.297510     | 0.681054          | 0.681695            |"
      ]
     },
     "metadata": {},
     "output_type": "display_data"
    },
    {
     "name": "stdout",
     "output_type": "stream",
     "text": [
      "{'f1_score': 0.7354630599020967, 'auc': 0.8293831317974739, 'recall': 0.8870989761092151, 'precision': 0.628099173553719, 'log_loss': 0.6224127976821391, 'roc_curve': Columns:\n",
      "\tthreshold\tfloat\n",
      "\tfpr\tfloat\n",
      "\ttpr\tfloat\n",
      "\tp\tint\n",
      "\tn\tint\n",
      "\n",
      "Rows: 100001\n",
      "\n",
      "Data:\n",
      "+-----------+----------------+----------------+-------+-------+\n",
      "| threshold |      fpr       |      tpr       |   p   |   n   |\n",
      "+-----------+----------------+----------------+-------+-------+\n",
      "|    0.0    |      1.0       |      1.0       | 14650 | 15558 |\n",
      "|   1e-05   | 0.987337704075 | 0.998771331058 | 14650 | 15558 |\n",
      "|   2e-05   | 0.98624501864  | 0.998703071672 | 14650 | 15558 |\n",
      "|   3e-05   | 0.98540943566  | 0.998634812287 | 14650 | 15558 |\n",
      "|   4e-05   | 0.984895230749 | 0.998566552901 | 14650 | 15558 |\n",
      "|   5e-05   | 0.984252474611 | 0.998566552901 | 14650 | 15558 |\n",
      "|   6e-05   | 0.983481167245 | 0.998361774744 | 14650 | 15558 |\n",
      "|   7e-05   | 0.983031237948 | 0.998361774744 | 14650 | 15558 |\n",
      "|   8e-05   | 0.982581308651 | 0.998361774744 | 14650 | 15558 |\n",
      "|   9e-05   | 0.982067103741 | 0.998293515358 | 14650 | 15558 |\n",
      "+-----------+----------------+----------------+-------+-------+\n",
      "[100001 rows x 5 columns]\n",
      "Note: Only the head of the SFrame is printed.\n",
      "You can use print_rows(num_rows=m, num_columns=n) to print more rows and columns., 'confusion_matrix': Columns:\n",
      "\ttarget_label\tint\n",
      "\tpredicted_label\tint\n",
      "\tcount\tint\n",
      "\n",
      "Rows: 4\n",
      "\n",
      "Data:\n",
      "+--------------+-----------------+-------+\n",
      "| target_label | predicted_label | count |\n",
      "+--------------+-----------------+-------+\n",
      "|      0       |        0        |  7863 |\n",
      "|      0       |        1        |  7695 |\n",
      "|      1       |        0        |  1654 |\n",
      "|      1       |        1        | 12996 |\n",
      "+--------------+-----------------+-------+\n",
      "[4 rows x 3 columns]\n",
      ", 'accuracy': 0.6905124470338984}\n"
     ]
    },
    {
     "data": {
      "text/html": [
       "<pre>| 11        | 12       | 0.000040  | 1.666078     | 0.677926          | 0.677136            |</pre>"
      ],
      "text/plain": [
       "| 11        | 12       | 0.000040  | 1.666078     | 0.677926          | 0.677136            |"
      ]
     },
     "metadata": {},
     "output_type": "display_data"
    },
    {
     "data": {
      "text/html": [
       "<pre>| 25        | 26       | 0.000040  | 2.690929     | 0.685163          | 0.686086            |</pre>"
      ],
      "text/plain": [
       "| 25        | 26       | 0.000040  | 2.690929     | 0.685163          | 0.686086            |"
      ]
     },
     "metadata": {},
     "output_type": "display_data"
    },
    {
     "data": {
      "text/html": [
       "<pre>| 50        | 51       | 0.000040  | 4.505528     | 0.687757          | 0.688281            |</pre>"
      ],
      "text/plain": [
       "| 50        | 51       | 0.000040  | 4.505528     | 0.687757          | 0.688281            |"
      ]
     },
     "metadata": {},
     "output_type": "display_data"
    },
    {
     "data": {
      "text/html": [
       "<pre>+-----------+----------+-----------+--------------+-------------------+---------------------+</pre>"
      ],
      "text/plain": [
       "+-----------+----------+-----------+--------------+-------------------+---------------------+"
      ]
     },
     "metadata": {},
     "output_type": "display_data"
    },
    {
     "name": "stdout",
     "output_type": "stream",
     "text": [
      "+-------------+-------+-------+------------------+--------+\n",
      "|     name    | index | class |      value       | stderr |\n",
      "+-------------+-------+-------+------------------+--------+\n",
      "| (intercept) |  None |   1   |   0.4754120324   |  None  |\n",
      "|   pagerank  |  None |   1   | -0.752888633121  |  None  |\n",
      "|  in_degree  |  None |   1   | 0.00264344443559 |  None  |\n",
      "|  out_degree |  None |   1   | 0.0016274862963  |  None  |\n",
      "|  avg_value  |  None |   1   | -0.106993598456  |  None  |\n",
      "+-------------+-------+-------+------------------+--------+\n",
      "[5 rows x 5 columns]\n",
      "\n"
     ]
    },
    {
     "data": {
      "text/html": [
       "<pre>TERMINATED: Iteration limit reached.</pre>"
      ],
      "text/plain": [
       "TERMINATED: Iteration limit reached."
      ]
     },
     "metadata": {},
     "output_type": "display_data"
    },
    {
     "data": {
      "text/html": [
       "<pre>This model may not be optimal. To improve it, consider increasing `max_iterations`.</pre>"
      ],
      "text/plain": [
       "This model may not be optimal. To improve it, consider increasing `max_iterations`."
      ]
     },
     "metadata": {},
     "output_type": "display_data"
    },
    {
     "name": "stdout",
     "output_type": "stream",
     "text": [
      "Canvas is updated and available in a tab in the default browser.\n",
      "Canvas is updated and available in a tab in the default browser.\n"
     ]
    }
   ],
   "source": [
    "model_services_logistic = gl.logistic_classifier.create(train_data, target='is_services',\n",
    "                                    features = [\n",
    "#                                                 'transaction_count',\n",
    "                                                'pagerank',\n",
    "                                                'in_degree',\n",
    "                                                'out_degree',\n",
    "                                                'avg_value',\n",
    "                                               ], max_iterations=50, l2_penalty=0.25, l1_penalty=0.25)\n",
    "\n",
    "# Save predictions (class only) to an SFrame\n",
    "predictions_services_logistic = model_services_logistic.predict(test_data)\n",
    "# Evaluate the model and save the results into a dictionary\n",
    "results_services_logistic = model_services_logistic.evaluate(test_data)\n",
    "print(results_services_logistic)\n",
    "\n",
    "coefs_services_logistic = model_services_logistic['coefficients']\n",
    "print coefs_services_logistic\n",
    "\n",
    "coefs_services_logistic.show()\n",
    "model_services_logistic.show()"
   ]
  },
  {
   "cell_type": "code",
   "execution_count": null,
   "metadata": {
    "collapsed": false,
    "jupyter": {
     "outputs_hidden": false
    }
   },
   "outputs": [],
   "source": []
  },
  {
   "cell_type": "code",
   "execution_count": 135,
   "metadata": {
    "collapsed": false,
    "jupyter": {
     "outputs_hidden": false
    }
   },
   "outputs": [
    {
     "name": "stdout",
     "output_type": "stream",
     "text": [
      "Canvas is updated and available in a tab in the default browser.\n",
      "Canvas is updated and available in a tab in the default browser.\n"
     ]
    }
   ],
   "source": [
    "model_services_svm.show()\n",
    "model_services_logistic.show()\n"
   ]
  },
  {
   "cell_type": "code",
   "execution_count": 136,
   "metadata": {
    "collapsed": false,
    "jupyter": {
     "outputs_hidden": false
    }
   },
   "outputs": [],
   "source": [
    "# numeric_features = [\n",
    "#                     'transaction_count',\n",
    "#                     'pagerank',\n",
    "#                     'in_degree',\n",
    "#                     'out_degree',\n",
    "#                     'avg_value',\n",
    "#                    ]\n",
    "\n",
    "# for ftr in numeric_features:\n",
    "#     mean = train_data[ftr].mean()\n",
    "#     stdev = train_data[ftr].std()\n",
    "#     train_data[ftr] = (train_data[ftr] - mean) / stdev\n",
    "#     test_data[ftr] = (test_data[ftr] - mean) / stdev\n",
    "\n",
    "# model_services_nn = gl.nearest_neighbor_classifier.create(train_data, target='is_services',\n",
    "#                                           features=numeric_features)\n",
    "# predictions_services_nn = model_services_nn.classify(test_data, max_neighbors=20, radius=None)\n",
    "# print predictions_services_nn"
   ]
  },
  {
   "cell_type": "code",
   "execution_count": 137,
   "metadata": {
    "collapsed": false,
    "jupyter": {
     "outputs_hidden": false
    }
   },
   "outputs": [],
   "source": [
    "# evals = model_services_nn.evaluate(test_data[:3000])\n",
    "# print evals"
   ]
  },
  {
   "cell_type": "code",
   "execution_count": 105,
   "metadata": {
    "collapsed": true,
    "jupyter": {
     "outputs_hidden": true
    }
   },
   "outputs": [],
   "source": [
    "# results_services_nn = model_services_nn.evaluate(test_data)\n",
    "# print(results_services_nn)"
   ]
  },
  {
   "cell_type": "code",
   "execution_count": 106,
   "metadata": {
    "collapsed": false,
    "jupyter": {
     "outputs_hidden": false
    }
   },
   "outputs": [
    {
     "name": "stdout",
     "output_type": "stream",
     "text": [
      "         pagerank         delta   in_degree   out_degree   avg_value          value  transaction_count\n",
      "count  251.000000  2.510000e+02  251.000000   251.000000  251.000000     251.000000         251.000000\n",
      "mean     0.407843  2.046622e-05   12.549801    10.721116    7.255617    3633.886774          23.270916\n",
      "std      0.697389  7.833666e-05   24.113741    67.553963   44.010337   56499.497435          88.621433\n",
      "min      0.150028  0.000000e+00    2.000000     0.000000    0.004153       0.020000           2.000000\n",
      "25%      0.155679  0.000000e+00    3.000000     0.000000    0.046075       0.285255           5.000000\n",
      "50%      0.168769  0.000000e+00    6.000000     2.000000    0.407783       4.553777           9.000000\n",
      "75%      0.293808  2.750578e-14   12.500000     7.500000    3.275426      46.337683          22.000000\n",
      "max      6.583039  5.559514e-04  303.000000  1060.000000  656.774219  895183.259990        1363.000000\n"
     ]
    }
   ],
   "source": [
    "print(pools[['pagerank', 'delta', 'in_degree', 'out_degree', 'avg_value', 'value', 'transaction_count']].describe())"
   ]
  },
  {
   "cell_type": "code",
   "execution_count": 107,
   "metadata": {
    "collapsed": false,
    "jupyter": {
     "outputs_hidden": false
    }
   },
   "outputs": [
    {
     "name": "stdout",
     "output_type": "stream",
     "text": [
      "           pagerank         delta     in_degree    out_degree     avg_value         value  transaction_count\n",
      "count  60704.000000  6.070400e+04  60704.000000  60704.000000  60704.000000  6.070400e+04       60704.000000\n",
      "mean       0.850888  5.504725e-05     10.317376      7.989292     10.188094  2.124058e+02          18.497694\n",
      "std        6.041574  1.104774e-03    114.616794    118.843224     40.150332  6.538661e+03         228.762033\n",
      "min        0.150001  0.000000e+00      1.000000      0.000000      0.000010  2.053000e-05           2.000000\n",
      "25%        0.227692  2.295799e-10      2.000000      0.000000      0.073333  3.505923e-01           3.000000\n",
      "50%        0.393908  2.574449e-06      4.000000      1.000000      1.397123  1.103001e+01           6.000000\n",
      "75%        0.671140  2.144683e-05      8.000000      5.000000      7.485391  8.555742e+01          15.000000\n",
      "max      666.600692  2.380068e-01  24300.000000  26539.000000   5450.126221  1.514247e+06       50839.000000\n"
     ]
    }
   ],
   "source": [
    "# print(data.topk('transaction_count', k=300))\n",
    "print(finance[['pagerank', 'delta', 'in_degree', 'out_degree', 'avg_value', 'value', 'transaction_count']].describe())"
   ]
  },
  {
   "cell_type": "code",
   "execution_count": 108,
   "metadata": {
    "collapsed": false,
    "jupyter": {
     "outputs_hidden": false
    }
   },
   "outputs": [
    {
     "name": "stdout",
     "output_type": "stream",
     "text": [
      "           pagerank         delta     in_degree    out_degree     avg_value         value  transaction_count\n",
      "count  72674.000000  7.267400e+04  72674.000000  72674.000000  72674.000000  72674.000000       72674.000000\n",
      "mean       0.355163  1.112537e-05      7.326843     11.607177      0.841071     12.883998          19.281586\n",
      "std        1.243308  1.611572e-04     15.051205    216.782320     23.566256    259.363889         271.817282\n",
      "min        0.150002  0.000000e+00      2.000000      0.000000      0.000010      0.000021           2.000000\n",
      "25%        0.152899  4.113018e-09      2.000000      0.000000      0.000145      0.000858           3.000000\n",
      "50%        0.160393  1.017662e-07      4.000000      0.000000      0.002400      0.014409           5.000000\n",
      "75%        0.304756  1.432508e-06      8.000000      1.000000      0.045384      0.305420          10.000000\n",
      "max      161.016809  3.454093e-02   1736.000000  24936.000000   5716.656279  34299.937674       49926.000000\n"
     ]
    }
   ],
   "source": [
    "print(services[['pagerank', 'delta', 'in_degree', 'out_degree', 'avg_value', 'value', 'transaction_count']].describe())"
   ]
  },
  {
   "cell_type": "code",
   "execution_count": 109,
   "metadata": {
    "collapsed": false,
    "jupyter": {
     "outputs_hidden": false
    }
   },
   "outputs": [
    {
     "name": "stdout",
     "output_type": "stream",
     "text": [
      "           pagerank         delta     in_degree    out_degree     avg_value         value  transaction_count\n",
      "count  16630.000000  1.663000e+04  16630.000000  16630.000000  16630.000000  16630.000000       16630.000000\n",
      "mean       0.694073  8.204698e-05      9.258268      5.176127      0.607781      5.924770          15.173121\n",
      "std        3.636954  3.122607e-03    341.376840     96.340436      2.881861     49.083704         422.991433\n",
      "min        0.150001  0.000000e+00      1.000000      0.000000      0.000009      0.000020           2.000000\n",
      "25%        0.277579  0.000000e+00      2.000000      0.000000      0.006147      0.020002           3.000000\n",
      "50%        0.405000  9.080120e-07      2.000000      1.000000      0.010088      0.040002           4.000000\n",
      "75%        0.587811  1.223170e-05      5.000000      3.000000      0.085264      0.574508           8.000000\n",
      "max      303.661691  2.802860e-01  42750.000000   8934.000000    129.398622   4160.338418       50120.000000\n"
     ]
    }
   ],
   "source": [
    "print(gambling[['pagerank', 'delta', 'in_degree', 'out_degree', 'avg_value', 'value', 'transaction_count']].describe())"
   ]
  },
  {
   "cell_type": "code",
   "execution_count": 110,
   "metadata": {
    "collapsed": false,
    "jupyter": {
     "outputs_hidden": false
    }
   },
   "outputs": [],
   "source": [
    "import matplotlib.pyplot as plt\n",
    "import pandas as pd\n",
    "%matplotlib inline"
   ]
  },
  {
   "cell_type": "code",
   "execution_count": 111,
   "metadata": {
    "collapsed": false,
    "jupyter": {
     "outputs_hidden": false
    }
   },
   "outputs": [
    {
     "data": {
      "image/png": "[encoded data removed]",
      "text/plain": [
       "<matplotlib.figure.Figure at 0x123a07910>"
      ]
     },
     "metadata": {},
     "output_type": "display_data"
    }
   ],
   "source": [
    "data = data.to_dataframe()\n",
    "metrics = data[['pagerank', 'in_degree', 'out_degree', 'avg_value', 'transaction_count']]\n",
    "metrics.plot()\n",
    "plt.show()"
   ]
  },
  {
   "cell_type": "code",
   "execution_count": 112,
   "metadata": {
    "collapsed": false,
    "jupyter": {
     "outputs_hidden": false
    }
   },
   "outputs": [
    {
     "data": {
      "image/png": "[encoded data removed]",
      "text/plain": [
       "<matplotlib.figure.Figure at 0x122d36190>"
      ]
     },
     "metadata": {},
     "output_type": "display_data"
    }
   ],
   "source": [
    "data.groupby('is_finance').transaction_count.hist(alpha=0.1)\n",
    "plt.show()"
   ]
  },
  {
   "cell_type": "code",
   "execution_count": 113,
   "metadata": {
    "collapsed": false,
    "jupyter": {
     "outputs_hidden": false
    }
   },
   "outputs": [
    {
     "data": {
      "image/png": "[encoded data removed]",
      "text/plain": [
       "<matplotlib.figure.Figure at 0x122dce110>"
      ]
     },
     "metadata": {},
     "output_type": "display_data"
    }
   ],
   "source": [
    "data.groupby('is_gambler').out_degree.hist(alpha=0.4)\n",
    "plt.show()"
   ]
  },
  {
   "cell_type": "code",
   "execution_count": 114,
   "metadata": {
    "collapsed": false,
    "jupyter": {
     "outputs_hidden": false
    }
   },
   "outputs": [
    {
     "data": {
      "text/plain": [
       "<matplotlib.axes._subplots.AxesSubplot at 0x123a0edd0>"
      ]
     },
     "execution_count": 114,
     "metadata": {},
     "output_type": "execute_result"
    },
    {
     "data": {
      "image/png": "[encoded data removed]",
      "text/plain": [
       "<matplotlib.figure.Figure at 0x12b31a750>"
      ]
     },
     "metadata": {},
     "output_type": "display_data"
    }
   ],
   "source": [
    "data.groupby(['is_finance']).mean().unstack().plot()"
   ]
  },
  {
   "cell_type": "code",
   "execution_count": null,
   "metadata": {
    "collapsed": true,
    "jupyter": {
     "outputs_hidden": true
    }
   },
   "outputs": [],
   "source": []
  },
  {
   "cell_type": "code",
   "execution_count": null,
   "metadata": {
    "collapsed": true,
    "jupyter": {
     "outputs_hidden": true
    }
   },
   "outputs": [],
   "source": []
  },
  {
   "cell_type": "code",
   "execution_count": null,
   "metadata": {
    "collapsed": true,
    "jupyter": {
     "outputs_hidden": true
    }
   },
   "outputs": [],
   "source": []
  },
  {
   "cell_type": "code",
   "execution_count": null,
   "metadata": {
    "collapsed": true,
    "jupyter": {
     "outputs_hidden": true
    }
   },
   "outputs": [],
   "source": []
  }
 ],
 "metadata": {
  "anaconda-cloud": {},
  "kernelspec": {
   "display_name": "Python 3 (ipykernel)",
   "language": "python",
   "name": "python3"
  },
  "language_info": {
   "codemirror_mode": {
    "name": "ipython",
    "version": 3
   },
   "file_extension": ".py",
   "mimetype": "text/x-python",
   "name": "python",
   "nbconvert_exporter": "python",
   "pygments_lexer": "ipython3",
   "version": "3.9.7"
  }
 },
 "nbformat": 4,
 "nbformat_minor": 4
}
