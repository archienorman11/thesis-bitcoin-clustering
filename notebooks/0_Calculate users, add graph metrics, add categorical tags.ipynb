{
 "cells": [
  {
   "cell_type": "code",
   "execution_count": 1,
   "metadata": {},
   "outputs": [
    {
     "ename": "ModuleNotFoundError",
     "evalue": "No module named 'PyYAML'",
     "output_type": "error",
     "traceback": [
      "\u001b[0;31m---------------------------------------------------------------------------\u001b[0m",
      "\u001b[0;31mModuleNotFoundError\u001b[0m                       Traceback (most recent call last)",
      "\u001b[0;32m/var/folders/nj/93crzg5x1q3d14pp_8np7v800000gn/T/ipykernel_741/2802656546.py\u001b[0m in \u001b[0;36m<module>\u001b[0;34m\u001b[0m\n\u001b[1;32m      1\u001b[0m \u001b[0;31m#IMPORT\u001b[0m\u001b[0;34m\u001b[0m\u001b[0;34m\u001b[0m\u001b[0m\n\u001b[1;32m      2\u001b[0m \u001b[0;34m\u001b[0m\u001b[0m\n\u001b[0;32m----> 3\u001b[0;31m \u001b[0;32mimport\u001b[0m \u001b[0mPyYAML\u001b[0m \u001b[0;32mas\u001b[0m \u001b[0myaml\u001b[0m\u001b[0;34m\u001b[0m\u001b[0;34m\u001b[0m\u001b[0m\n\u001b[0m\u001b[1;32m      4\u001b[0m \u001b[0;34m\u001b[0m\u001b[0m\n\u001b[1;32m      5\u001b[0m \u001b[0;32mwith\u001b[0m \u001b[0mopen\u001b[0m\u001b[0;34m(\u001b[0m\u001b[0;34m'consts.yaml'\u001b[0m\u001b[0;34m)\u001b[0m \u001b[0;32mas\u001b[0m \u001b[0mf\u001b[0m\u001b[0;34m:\u001b[0m\u001b[0;34m\u001b[0m\u001b[0;34m\u001b[0m\u001b[0m\n",
      "\u001b[0;31mModuleNotFoundError\u001b[0m: No module named 'PyYAML'"
     ]
    }
   ],
   "source": [
    "#IMPORT\n",
    "\n",
    "import PyYAML as yaml \n",
    "\n",
    "with open('consts.yaml') as f:\n",
    "    consts = yaml.safe_load(f)\n",
    "\n",
    "try:\n",
    "    import graphlab as gl\n",
    "    import numpy as np\n",
    "    import graphlab.aggregate as agg\n",
    "    import matplotlib.pyplot as plt\n",
    "    from matplotlib import rcParams\n",
    "    import datetime as dt   \n",
    "    from graphlab import degree_counting\n",
    "    from graphlab import connected_components\n",
    "    from graphlab import pagerank\n",
    "    from graphlab import shortest_path\n",
    "    from graphlab import triangle_counting\n",
    "    from graphlab import label_propagation\n",
    "    from graphlab import kcore\n",
    "    from graphlab import graph_coloring\n",
    "    print(consts['success'])\n",
    "except:\n",
    "    raise ImportError(\"Key libraries cannot be loaded.\")"
   ]
  },
  {
   "cell_type": "code",
   "execution_count": 2,
   "metadata": {},
   "outputs": [
    {
     "ename": "NameError",
     "evalue": "name 'consts' is not defined",
     "output_type": "error",
     "traceback": [
      "\u001b[0;31m---------------------------------------------------------------------------\u001b[0m",
      "\u001b[0;31mNameError\u001b[0m                                 Traceback (most recent call last)",
      "\u001b[0;32m/var/folders/nj/93crzg5x1q3d14pp_8np7v800000gn/T/ipykernel_741/3735868978.py\u001b[0m in \u001b[0;36m<module>\u001b[0;34m\u001b[0m\n\u001b[1;32m      1\u001b[0m \u001b[0;32mimport\u001b[0m \u001b[0mos\u001b[0m\u001b[0;34m\u001b[0m\u001b[0;34m\u001b[0m\u001b[0m\n\u001b[1;32m      2\u001b[0m \u001b[0;34m\u001b[0m\u001b[0m\n\u001b[0;32m----> 3\u001b[0;31m \u001b[0mtransaction_data\u001b[0m \u001b[0;34m=\u001b[0m \u001b[0mconsts\u001b[0m\u001b[0;34m[\u001b[0m\u001b[0;34m'path_transactional_data_calculate'\u001b[0m\u001b[0;34m]\u001b[0m\u001b[0;34m\u001b[0m\u001b[0;34m\u001b[0m\u001b[0m\n\u001b[0m\u001b[1;32m      4\u001b[0m \u001b[0;34m\u001b[0m\u001b[0m\n\u001b[1;32m      5\u001b[0m \u001b[0;32mif\u001b[0m \u001b[0mos\u001b[0m\u001b[0;34m.\u001b[0m\u001b[0mpath\u001b[0m\u001b[0;34m.\u001b[0m\u001b[0mexists\u001b[0m\u001b[0;34m(\u001b[0m\u001b[0mconsts\u001b[0m\u001b[0;34m[\u001b[0m\u001b[0;34m'path_transactional_data_calculate'\u001b[0m\u001b[0;34m]\u001b[0m\u001b[0;34m)\u001b[0m\u001b[0;34m:\u001b[0m\u001b[0;34m\u001b[0m\u001b[0;34m\u001b[0m\u001b[0m\n",
      "\u001b[0;31mNameError\u001b[0m: name 'consts' is not defined"
     ]
    }
   ],
   "source": [
    "import os\n",
    "\n",
    "transaction_data = consts['path_transactional_data_calculate']\n",
    "\n",
    "if os.path.exists(consts['path_transactional_data_calculate']):\n",
    "    sf = gl.SFrame(transaction_data)\n",
    "    # TAKE SAMPLE\n",
    "    s = sf.sample(0.22, seed=1)\n",
    "    df = s.to_dataframe()\n",
    "    df = df[df['input_address'].notnull()]\n",
    "    df = df[df['output_address'].notnull()]\n",
    "    df = df.fillna(0)\n",
    "    sf_transactions = gl.SFrame(df)\n",
    "    g = gl.SGraph().add_edges(sf_transactions, src_field='input_address', dst_field='output_address')\n",
    "    print(len(sf))    \n",
    "    print(len(df))\n",
    "    print(g)\n",
    "else:\n",
    "    print(const['cant_find_data'])"
   ]
  },
  {
   "cell_type": "code",
   "execution_count": 3,
   "metadata": {},
   "outputs": [
    {
     "ename": "NameError",
     "evalue": "name 'df' is not defined",
     "output_type": "error",
     "traceback": [
      "\u001b[0;31m---------------------------------------------------------------------------\u001b[0m",
      "\u001b[0;31mNameError\u001b[0m                                 Traceback (most recent call last)",
      "\u001b[0;32m/var/folders/nj/93crzg5x1q3d14pp_8np7v800000gn/T/ipykernel_741/3810112079.py\u001b[0m in \u001b[0;36m<module>\u001b[0;34m\u001b[0m\n\u001b[0;32m----> 1\u001b[0;31m \u001b[0mprint\u001b[0m\u001b[0;34m(\u001b[0m\u001b[0mdf\u001b[0m\u001b[0;34m.\u001b[0m\u001b[0mhead\u001b[0m\u001b[0;34m(\u001b[0m\u001b[0;34m)\u001b[0m\u001b[0;34m)\u001b[0m\u001b[0;34m\u001b[0m\u001b[0;34m\u001b[0m\u001b[0m\n\u001b[0m",
      "\u001b[0;31mNameError\u001b[0m: name 'df' is not defined"
     ]
    }
   ],
   "source": [
    "print(df.head())"
   ]
  },
  {
   "cell_type": "code",
   "execution_count": null,
   "metadata": {},
   "outputs": [],
   "source": [
    "from load_data import load_data\n",
    "load_data()"
   ]
  },
  {
   "cell_type": "code",
   "execution_count": null,
   "metadata": {},
   "outputs": [],
   "source": [
    "#CREATE TAG DATAFRAME\n",
    "import re\n",
    "\n",
    "categories = []\n",
    "for i in total:\n",
    "    addr = re.search(\"'(.*?)'\", str(i)).group(0)\n",
    "    num = re.search('(?<=\\s)[0-9]', str(i)).group(0)\n",
    "    addr.replace(\"'\", \"\")\n",
    "    t_dict = {\n",
    "        'address': addr,\n",
    "        'category': int(num)\n",
    "    }\n",
    "    categories.append(t_dict)\n",
    "\n",
    "df_tags = pd.DataFrame.from_dict(categories)\n",
    "df_tags['address'] = df_tags['address'].map(lambda x: str(x)[:-1])\n",
    "df_tags['address'] = df_tags['address'].map(lambda x: str(x)[1:])\n",
    "df_tags = df_tags.drop_duplicates()\n",
    "print(df_tags.head(n=2))\n",
    "print(len(df_tags))"
   ]
  },
  {
   "cell_type": "code",
   "execution_count": null,
   "metadata": {},
   "outputs": [],
   "source": [
    "df_tags.to_csv('df_tags', sep=',')"
   ]
  },
  {
   "cell_type": "code",
   "execution_count": null,
   "metadata": {},
   "outputs": [],
   "source": [
    "df = s.to_dataframe()\n",
    "df = df[df['input_address'].notnull()]\n",
    "df = df[df['output_address'].notnull()]"
   ]
  },
  {
   "cell_type": "code",
   "execution_count": null,
   "metadata": {},
   "outputs": [],
   "source": [
    "#ADD TAGS TO TRANSACTION RECORDS\n",
    "df_transactions = df\n",
    "df_transactions = (pd.merge(df_transactions, df_tags.groupby(['address', 'category'])['category'].size().unstack()\n",
    "                        .add_prefix('input_')\n",
    "                        .reset_index(), how='left', left_on = 'input_address', right_on = 'address')\n",
    "                        .fillna(0))\n",
    "\n",
    "df_transactions = (pd.merge(df_transactions, df_tags.groupby(['address', 'category'])['category'].size().unstack()\n",
    "                        .add_prefix('output_')\n",
    "                        .reset_index(), how='left', left_on = 'output_address', right_on = 'address')\n",
    "                        .fillna(0))"
   ]
  },
  {
   "cell_type": "code",
   "execution_count": null,
   "metadata": {},
   "outputs": [],
   "source": []
  },
  {
   "cell_type": "code",
   "execution_count": null,
   "metadata": {},
   "outputs": [],
   "source": [
    "#CREATE NODES WITH TAGS FROM TRANSACTIONS\n",
    "nodes = []\n",
    "for index, i in df_transactions.iterrows():\n",
    "    temp = {\n",
    "        'address': i['input_address'], \"value\": i['value'], \n",
    "        \"received_gambling\": i['input_1'],\n",
    "        \"received_charity\": i['input_2'],\n",
    "        \"received_finance\": i['input_3'],\n",
    "        \"received_services\": i['input_4'],\n",
    "        \"received_junk\": i['input_5'],\n",
    "        \"received_pools\": i['input_6'],\n",
    "        \"transaction_count\": 1\n",
    "    }\n",
    "    nodes.append(temp)\n",
    "    temp = {\n",
    "        'address': i['output_address'], \"value\": i['value'], \n",
    "        \"sent_gambling\": i['output_1'],\n",
    "        \"sent_charity\": i['output_2'],\n",
    "        \"sent_finance\": i['output_3'],\n",
    "        \"sent_services\": i['output_4'],\n",
    "        \"sent_junk\": i['output_5'],\n",
    "        \"sent_pools\": i['input_6'],\n",
    "        \"transaction_count\": 1\n",
    "    }\n",
    "    nodes.append(temp)"
   ]
  },
  {
   "cell_type": "code",
   "execution_count": null,
   "metadata": {},
   "outputs": [],
   "source": [
    "df_nodes = pd.DataFrame(nodes)\n",
    "df_nodes = df_nodes.fillna(0)"
   ]
  },
  {
   "cell_type": "code",
   "execution_count": null,
   "metadata": {},
   "outputs": [],
   "source": []
  },
  {
   "cell_type": "code",
   "execution_count": null,
   "metadata": {},
   "outputs": [],
   "source": [
    "df_merged = df_nodes.merge(df_tags, how='inner', on='address')\n",
    "print(len(df_merged))\n",
    "print(len(df_nodes))"
   ]
  },
  {
   "cell_type": "code",
   "execution_count": null,
   "metadata": {},
   "outputs": [],
   "source": [
    "from sklearn import preprocessing\n",
    "\n",
    "le = preprocessing.LabelEncoder()\n",
    "le.fit(df_merged['address'])\n",
    "df_merged['address'] = le.transform(df_merged['address'])"
   ]
  },
  {
   "cell_type": "code",
   "execution_count": null,
   "metadata": {},
   "outputs": [],
   "source": [
    "df_merged['address'] = le.inverse_transform(df_merged['address'])"
   ]
  },
  {
   "cell_type": "code",
   "execution_count": null,
   "metadata": {},
   "outputs": [],
   "source": [
    "df_merged = df_merged.groupby('address').sum()\n",
    "df_merged = df_merged.reset_index(drop=False)"
   ]
  },
  {
   "cell_type": "code",
   "execution_count": null,
   "metadata": {},
   "outputs": [],
   "source": [
    "df_merged['is_gambler'] = df_merged['sent_gambling'] > 1\n",
    "df_merged['is_charity'] = df_merged['sent_charity'] > 1\n",
    "df_merged['is_finance'] = df_merged['sent_finance'] > 1\n",
    "df_merged['is_junk'] = df_merged['sent_junk'] > 1\n",
    "df_merged['is_pools'] = df_merged['sent_pools'] > 1\n",
    "df_merged['is_services'] = df_merged['sent_services'] > 1"
   ]
  },
  {
   "cell_type": "code",
   "execution_count": null,
   "metadata": {},
   "outputs": [],
   "source": [
    "df_merged.save(consts['temp'])"
   ]
  },
  {
   "cell_type": "code",
   "execution_count": null,
   "metadata": {},
   "outputs": [],
   "source": [
    "try:\n",
    "    transaction_data = consts['temp']\n",
    "    df_merged = gl.SFrame(transaction_data)\n",
    "    print(len(df_merged))\n",
    "except:\n",
    "    print(consts['error'])"
   ]
  },
  {
   "cell_type": "code",
   "execution_count": null,
   "metadata": {},
   "outputs": [],
   "source": [
    "#DEGREES\n",
    "\n",
    "deg = degree_counting.create(g)\n",
    "deg_graph = deg['graph'] # a new SGraph with degree data attached to each vertex\n",
    "in_degree = deg_graph.vertices[['__id', 'in_degree']]\n",
    "out_degree = deg_graph.vertices[['__id', 'out_degree']]\n",
    "\n",
    "#PAGERANK\n",
    "\n",
    "pr = pagerank.create(g)\n",
    "pr_out = pr['pagerank']\n",
    "\n",
    "#CONNECTED COMPONENT\n",
    "\n",
    "cc = gl.connected_components.create(g)\n",
    "wcc = (cc['component_id'])\n",
    "\n",
    "#K-CORE\n",
    "\n",
    "kc = kcore.create(g)\n",
    "kcore = kc['core_id']\n",
    "\n",
    "df_pagerank = pr_out.to_dataframe()\n",
    "df_in = in_degree.to_dataframe()\n",
    "df_out = out_degree.to_dataframe()\n",
    "df_wcc = wcc.to_dataframe()\n",
    "df_kcore = kcore.to_dataframe()\n",
    "\n",
    "df_merged = df_merged.merge(df_pagerank[['__id', 'pagerank', 'delta']], how='left', left_on='address', right_on='__id')\n",
    "df_merged = df_merged.merge(df_in[['__id', 'in_degree']], how='left', left_on='address', right_on='__id')\n",
    "df_merged = df_merged.merge(df_out[['__id', 'out_degree']], how='left', left_on='address', right_on='__id')\n",
    "df_merged = df_merged.merge(df_wcc[['__id', 'component_id']], how='left', left_on='address', right_on='__id')\n",
    "df_merged = df_merged.merge(df_kcore[['__id', 'core_id']], how='left', left_on='address', right_on='__id')\n",
    "\n",
    "print(df_merged.sort_values('sent_finance', ascending=False).head(1))"
   ]
  },
  {
   "cell_type": "code",
   "execution_count": null,
   "metadata": {},
   "outputs": [],
   "source": [
    "df_merged['avg_value'] = df_merged['value'] / df_merged['transaction_count']\n",
    "df_merged.drop(['__id_x'],inplace=True,axis=1)\n",
    "df_merged.drop(['__id_y'],inplace=True,axis=1)\n",
    "df_merged.drop(['__id'],inplace=True,axis=1)\n",
    "# print(df_merged.sort_values('sent_finance', ascending=False).head(10))\n",
    "df_merged.to_csv(consts['computed_data_set'], sep=',')"
   ]
  },
  {
   "cell_type": "code",
   "execution_count": null,
   "metadata": {},
   "outputs": [],
   "source": [
    "computed_output = gl.SFrame(df_merged)\n",
    "computed_output.save('output/nodes/data')"
   ]
  },
  {
   "cell_type": "code",
   "execution_count": null,
   "metadata": {},
   "outputs": [],
   "source": [
    "print(len(computed_output))\n",
    "print(len(df_merged))"
   ]
  },
  {
   "cell_type": "code",
   "execution_count": null,
   "metadata": {},
   "outputs": [],
   "source": []
  },
  {
   "cell_type": "code",
   "execution_count": null,
   "metadata": {},
   "outputs": [],
   "source": []
  },
  {
   "cell_type": "code",
   "execution_count": null,
   "metadata": {},
   "outputs": [],
   "source": []
  },
  {
   "cell_type": "code",
   "execution_count": null,
   "metadata": {},
   "outputs": [],
   "source": []
  }
 ],
 "metadata": {
  "anaconda-cloud": {},
  "kernelspec": {
   "display_name": "Python 3 (ipykernel)",
   "language": "python",
   "name": "python3"
  },
  "language_info": {
   "codemirror_mode": {
    "name": "ipython",
    "version": 3
   },
   "file_extension": ".py",
   "mimetype": "text/x-python",
   "name": "python",
   "nbconvert_exporter": "python",
   "pygments_lexer": "ipython3",
   "version": "3.9.7"
  }
 },
 "nbformat": 4,
 "nbformat_minor": 4
}
